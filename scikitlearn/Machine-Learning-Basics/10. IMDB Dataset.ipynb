{
 "cells": [
  {
   "cell_type": "code",
   "execution_count": 1,
   "id": "4da0b6ee",
   "metadata": {},
   "outputs": [],
   "source": [
    "import numpy as np\n",
    "import tensorflow as tf\n",
    "import matplotlib.pyplot as plt\n",
    "\n",
    "(train_data, train_labels), (test_data, test_labels) = tf.keras.datasets.imdb.load_data(num_words=1000)\n",
    "\n",
    "def one_hot_sequence(sequences, dimension=1000):\n",
    "    results = np.zeros((len(sequences), dimension))\n",
    "    for i, word_index in enumerate(sequences):\n",
    "        results[i, word_index] = 1.\n",
    "    return results\n",
    "\n",
    "train_data = one_hot_sequence(train_data)\n",
    "test_data = one_hot_sequence(test_data)"
   ]
  },
  {
   "cell_type": "code",
   "execution_count": 2,
   "id": "898f05f5",
   "metadata": {},
   "outputs": [],
   "source": [
    "model = tf.keras.Sequential()\n",
    "model.add(tf.keras.layers.Dense(16, activation='relu', input_shape=(1000,)))\n",
    "model.add(tf.keras.layers.Dense(16, activation='relu'))\n",
    "model.add(tf.keras.layers.Dense(1, activation='sigmoid'))\n"
   ]
  },
  {
   "cell_type": "code",
   "execution_count": 11,
   "id": "30995a2b",
   "metadata": {},
   "outputs": [
    {
     "name": "stdout",
     "output_type": "stream",
     "text": [
      "Epoch 1/20\n",
      "WARNING:tensorflow:AutoGraph could not transform <function Model.make_train_function.<locals>.train_function at 0x0000023422D7BA68> and will run it as-is.\n",
      "Please report this to the TensorFlow team. When filing the bug, set the verbosity to 10 (on Linux, `export AUTOGRAPH_VERBOSITY=10`) and attach the full output.\n",
      "Cause: 'arguments' object has no attribute 'posonlyargs'\n",
      "To silence this warning, decorate the function with @tf.autograph.experimental.do_not_convert\n",
      "WARNING: AutoGraph could not transform <function Model.make_train_function.<locals>.train_function at 0x0000023422D7BA68> and will run it as-is.\n",
      "Please report this to the TensorFlow team. When filing the bug, set the verbosity to 10 (on Linux, `export AUTOGRAPH_VERBOSITY=10`) and attach the full output.\n",
      "Cause: 'arguments' object has no attribute 'posonlyargs'\n",
      "To silence this warning, decorate the function with @tf.autograph.experimental.do_not_convert\n",
      "WARNING:tensorflow:AutoGraph could not transform <function Model.make_test_function.<locals>.test_function at 0x00000234302ECAF8> and will run it as-is.\n",
      "Please report this to the TensorFlow team. When filing the bug, set the verbosity to 10 (on Linux, `export AUTOGRAPH_VERBOSITY=10`) and attach the full output.\n",
      "Cause: 'arguments' object has no attribute 'posonlyargs'\n",
      "To silence this warning, decorate the function with @tf.autograph.experimental.do_not_convert\n",
      "WARNING: AutoGraph could not transform <function Model.make_test_function.<locals>.test_function at 0x00000234302ECAF8> and will run it as-is.\n",
      "Please report this to the TensorFlow team. When filing the bug, set the verbosity to 10 (on Linux, `export AUTOGRAPH_VERBOSITY=10`) and attach the full output.\n",
      "Cause: 'arguments' object has no attribute 'posonlyargs'\n",
      "To silence this warning, decorate the function with @tf.autograph.experimental.do_not_convert\n",
      "49/49 - 2s - loss: 0.3057 - accuracy: 0.8826 - val_loss: 0.3392 - val_accuracy: 0.8553 - 2s/epoch - 36ms/step\n",
      "Epoch 2/20\n",
      "49/49 - 0s - loss: 0.3020 - accuracy: 0.8839 - val_loss: 0.3360 - val_accuracy: 0.8559 - 383ms/epoch - 8ms/step\n",
      "Epoch 3/20\n",
      "49/49 - 0s - loss: 0.2966 - accuracy: 0.8862 - val_loss: 0.3423 - val_accuracy: 0.8563 - 420ms/epoch - 9ms/step\n",
      "Epoch 4/20\n",
      "49/49 - 0s - loss: 0.2930 - accuracy: 0.8882 - val_loss: 0.3476 - val_accuracy: 0.8560 - 401ms/epoch - 8ms/step\n",
      "Epoch 5/20\n",
      "49/49 - 0s - loss: 0.2914 - accuracy: 0.8878 - val_loss: 0.3471 - val_accuracy: 0.8550 - 407ms/epoch - 8ms/step\n",
      "Epoch 6/20\n",
      "49/49 - 0s - loss: 0.2907 - accuracy: 0.8872 - val_loss: 0.3499 - val_accuracy: 0.8564 - 397ms/epoch - 8ms/step\n",
      "Epoch 7/20\n",
      "49/49 - 0s - loss: 0.2871 - accuracy: 0.8906 - val_loss: 0.3500 - val_accuracy: 0.8530 - 392ms/epoch - 8ms/step\n",
      "Epoch 8/20\n",
      "49/49 - 0s - loss: 0.2872 - accuracy: 0.8875 - val_loss: 0.3498 - val_accuracy: 0.8541 - 425ms/epoch - 9ms/step\n",
      "Epoch 9/20\n",
      "49/49 - 0s - loss: 0.2833 - accuracy: 0.8910 - val_loss: 0.3558 - val_accuracy: 0.8547 - 397ms/epoch - 8ms/step\n",
      "Epoch 10/20\n",
      "49/49 - 0s - loss: 0.2795 - accuracy: 0.8902 - val_loss: 0.3549 - val_accuracy: 0.8550 - 417ms/epoch - 9ms/step\n",
      "Epoch 11/20\n",
      "49/49 - 0s - loss: 0.2827 - accuracy: 0.8922 - val_loss: 0.3537 - val_accuracy: 0.8536 - 406ms/epoch - 8ms/step\n",
      "Epoch 12/20\n",
      "49/49 - 0s - loss: 0.2825 - accuracy: 0.8922 - val_loss: 0.3560 - val_accuracy: 0.8523 - 386ms/epoch - 8ms/step\n",
      "Epoch 13/20\n",
      "49/49 - 0s - loss: 0.2741 - accuracy: 0.8926 - val_loss: 0.3638 - val_accuracy: 0.8538 - 416ms/epoch - 8ms/step\n",
      "Epoch 14/20\n",
      "49/49 - 0s - loss: 0.2714 - accuracy: 0.8943 - val_loss: 0.3664 - val_accuracy: 0.8517 - 387ms/epoch - 8ms/step\n",
      "Epoch 15/20\n",
      "49/49 - 0s - loss: 0.2735 - accuracy: 0.8918 - val_loss: 0.3699 - val_accuracy: 0.8532 - 394ms/epoch - 8ms/step\n",
      "Epoch 16/20\n",
      "49/49 - 0s - loss: 0.2702 - accuracy: 0.8937 - val_loss: 0.3734 - val_accuracy: 0.8525 - 381ms/epoch - 8ms/step\n",
      "Epoch 17/20\n",
      "49/49 - 0s - loss: 0.2684 - accuracy: 0.8914 - val_loss: 0.3763 - val_accuracy: 0.8528 - 390ms/epoch - 8ms/step\n",
      "Epoch 18/20\n",
      "49/49 - 0s - loss: 0.2636 - accuracy: 0.8944 - val_loss: 0.3780 - val_accuracy: 0.8532 - 415ms/epoch - 8ms/step\n",
      "Epoch 19/20\n",
      "49/49 - 0s - loss: 0.2656 - accuracy: 0.8940 - val_loss: 0.3722 - val_accuracy: 0.8525 - 387ms/epoch - 8ms/step\n",
      "Epoch 20/20\n",
      "49/49 - 0s - loss: 0.2646 - accuracy: 0.8919 - val_loss: 0.3737 - val_accuracy: 0.8524 - 412ms/epoch - 8ms/step\n"
     ]
    }
   ],
   "source": [
    "model.compile(loss='binary_crossentropy', optimizer='adam', metrics=['accuracy'])\n",
    "\n",
    "history = model.fit(train_data,\n",
    "                   train_labels,\n",
    "                   epochs=20,\n",
    "                   batch_size=512,\n",
    "                   validation_data=(test_data, test_labels),\n",
    "                   verbose=2)"
   ]
  },
  {
   "cell_type": "code",
   "execution_count": 12,
   "id": "283eed40",
   "metadata": {},
   "outputs": [],
   "source": [
    "#graph 출력\n",
    "\n",
    "history_dict = history.history\n",
    "loss_values = history_dict['loss']\n",
    "val_loss_values = history_dict['val_loss']\n",
    "acc = history_dict['accuracy']\n",
    "epochs = range(1, len(acc) + 1)"
   ]
  },
  {
   "cell_type": "code",
   "execution_count": 13,
   "id": "e1389c38",
   "metadata": {},
   "outputs": [
    {
     "data": {
      "image/png": "[encoded data removed]",
      "text/plain": [
       "<Figure size 432x288 with 1 Axes>"
      ]
     },
     "metadata": {
      "needs_background": "light"
     },
     "output_type": "display_data"
    }
   ],
   "source": [
    "plt.plot(history.history['loss'])\n",
    "plt.plot(history.history['val_loss'])\n",
    "plt.title('Loss Plot')\n",
    "plt.ylabel('loss')\n",
    "plt.xlabel('epochs')\n",
    "plt.legend(['train error', 'val error'], loc='upper left')\n",
    "plt.show()"
   ]
  },
  {
   "cell_type": "markdown",
   "id": "74eab40b",
   "metadata": {},
   "source": [
    "## overfitting(과잉적합) 방지 - regulairzer 적용"
   ]
  },
  {
   "cell_type": "code",
   "execution_count": 5,
   "id": "5dad9c94",
   "metadata": {},
   "outputs": [],
   "source": [
    "model = tf.keras.Sequential()\n",
    "model.add(tf.keras.layers.Dense(16, kernel_regularizer = tf.keras.regularizers.l2(0.001), activation='relu', input_shape=(1000,)))\n",
    "model.add(tf.keras.layers.Dense(16, kernel_regularizer = tf.keras.regularizers.l2(0.001), activation='relu'))\n",
    "model.add(tf.keras.layers.Dense(1, activation='sigmoid'))"
   ]
  },
  {
   "cell_type": "markdown",
   "id": "c09f76ef",
   "metadata": {},
   "source": [
    "## overfitting(과잉적합) 방지 - Dropout 적용"
   ]
  },
  {
   "cell_type": "code",
   "execution_count": 9,
   "id": "7cb78077",
   "metadata": {},
   "outputs": [],
   "source": [
    "model = tf.keras.Sequential()\n",
    "model.add(tf.keras.layers.Dense(16, activation='relu', input_shape=(1000,)))\n",
    "\n",
    "model.add(tf.keras.layers.Dropout(0.5))\n",
    "\n",
    "model.add(tf.keras.layers.Dense(16, activation='relu'))\n",
    "\n",
    "model.add(tf.keras.layers.Dropout(0.5))\n",
    "\n",
    "model.add(tf.keras.layers.Dense(1, activation='sigmoid'))"
   ]
  },
  {
   "cell_type": "code",
   "execution_count": 3,
   "id": "8e4e9a83",
   "metadata": {},
   "outputs": [
    {
     "name": "stdout",
     "output_type": "stream",
     "text": [
      "ERROR! Session/line number was not unique in database. History logging moved to new session 62\n"
     ]
    },
    {
     "name": "stderr",
     "output_type": "stream",
     "text": [
      "Using TensorFlow backend.\n"
     ]
    },
    {
     "data": {
      "text/plain": [
       "'2.3.1'"
      ]
     },
     "execution_count": 3,
     "metadata": {},
     "output_type": "execute_result"
    }
   ],
   "source": [
    "import keras\n",
    "keras.__version__"
   ]
  }
 ],
 "metadata": {
  "kernelspec": {
   "display_name": "Python 3 (ipykernel)",
   "language": "python",
   "name": "python3"
  },
  "language_info": {
   "codemirror_mode": {
    "name": "ipython",
    "version": 3
   },
   "file_extension": ".py",
   "mimetype": "text/x-python",
   "name": "python",
   "nbconvert_exporter": "python",
   "pygments_lexer": "ipython3",
   "version": "3.7.9"
  }
 },
 "nbformat": 4,
 "nbformat_minor": 5
}
