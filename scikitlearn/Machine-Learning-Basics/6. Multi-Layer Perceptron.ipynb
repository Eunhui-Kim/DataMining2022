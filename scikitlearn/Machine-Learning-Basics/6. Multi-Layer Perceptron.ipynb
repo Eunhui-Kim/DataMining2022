{
 "cells": [
  {
   "cell_type": "code",
   "execution_count": 1,
   "id": "e024d6bd",
   "metadata": {},
   "outputs": [
    {
     "name": "stdout",
     "output_type": "stream",
     "text": [
      "[[0 0]] [1] [[0.99196032]]\n",
      "[[0 1]] [0] [[0.00835708]]\n",
      "[[1 0]] [0] [[0.00836107]]\n",
      "[[1 1]] [1] [[0.98974873]]\n"
     ]
    }
   ],
   "source": [
    "import numpy as np\n",
    "\n",
    "def actf(x):\n",
    "    return 1/(1 + np.exp(-x))\n",
    "\n",
    "def actf_deriv(x):\n",
    "    return x*(1 - x)\n",
    "\n",
    "inputs, hiddens, outputs = 2, 2, 1\n",
    "learning_rate = 0.2\n",
    "\n",
    "#XOR 훈련샘플 & 정답\n",
    "X = np.array([[0,0],\n",
    "             [0,1],\n",
    "             [1,0],\n",
    "             [1,1]])\n",
    "T = np.array([[1],\n",
    "             [0],\n",
    "             [0],\n",
    "             [1]])\n",
    "\n",
    "\n",
    "W1 = np.array([[0.10, 0.20], [0.30, 0.40]])\n",
    "W2 = np.array([[0.50], [0.60]])\n",
    "B1 = np.array([0.1, 0.2])\n",
    "B2 = np.array([0.3])\n",
    "\n",
    "def predict(x):\n",
    "    layer0 = x\n",
    "    Z1 = np.dot(layer0, W1) + B1\n",
    "    layer1 = actf(Z1)\n",
    "    Z2 = np.dot(layer1, W2) + B2\n",
    "    layer2 = actf(Z2)\n",
    "    return layer0, layer1, layer2\n",
    "\n",
    "\n",
    "def fit():\n",
    "    global W1, W2, B1, B2\n",
    "    for i in range(90000):\n",
    "        for x, y in zip(X, T):\n",
    "            x = np.reshape(x, (1, -1))\n",
    "            y = np.reshape(y, (1, -1))\n",
    "            \n",
    "            layer0, layer1, layer2 = predict(x)\n",
    "            layer2_error = layer2 - y\n",
    "            layer2_delta = layer2_error * actf_deriv(layer2)\n",
    "            layer1_error = np.dot(layer2_delta, W2.T)\n",
    "            layer1_delta = layer1_error*actf_deriv(layer1)\n",
    "            \n",
    "            W2 += -learning_rate * np.dot(layer1.T, layer2_delta)\n",
    "            W1 += -learning_rate * np.dot(layer0.T, layer1_delta)\n",
    "            B2 += -learning_rate * np.sum(layer2_delta, axis=0)\n",
    "            B1 += -learning_rate * np.sum(layer1_delta, axis=0)\n",
    "\n",
    "def test():\n",
    "    for x, y in zip(X, T):\n",
    "        x = np.reshape(x, (1, -1))\n",
    "        layer0, layer1, layer2 = predict(x)\n",
    "        print(x, y, layer2)\n",
    "\n",
    "fit()\n",
    "test()"
   ]
  },
  {
   "cell_type": "code",
   "execution_count": null,
   "id": "7b5d8e96",
   "metadata": {},
   "outputs": [],
   "source": []
  }
 ],
 "metadata": {
  "kernelspec": {
   "display_name": "Python 3 (ipykernel)",
   "language": "python",
   "name": "python3"
  },
  "language_info": {
   "codemirror_mode": {
    "name": "ipython",
    "version": 3
   },
   "file_extension": ".py",
   "mimetype": "text/x-python",
   "name": "python",
   "nbconvert_exporter": "python",
   "pygments_lexer": "ipython3",
   "version": "3.9.7"
  }
 },
 "nbformat": 4,
 "nbformat_minor": 5
}
