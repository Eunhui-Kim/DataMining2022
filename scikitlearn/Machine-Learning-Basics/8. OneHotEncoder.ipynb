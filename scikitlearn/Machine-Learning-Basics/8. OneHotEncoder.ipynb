{
 "cells": [
  {
   "cell_type": "code",
   "execution_count": 1,
   "id": "b01a731c",
   "metadata": {
    "scrolled": true
   },
   "outputs": [
    {
     "name": "stdout",
     "output_type": "stream",
     "text": [
      "[[0. 0. 1.]\n",
      " [0. 1. 0.]\n",
      " [1. 0. 0.]]\n",
      "[['0.0' '0.0' '1.0' '44' '7200']\n",
      " ['0.0' '1.0' '0.0' '27' '4800']\n",
      " ['1.0' '0.0' '0.0' '30' '6100']]\n"
     ]
    }
   ],
   "source": [
    "import numpy as np\n",
    "\n",
    "X = np.array([['Korea', 44, 7200],\n",
    "              ['Japan', 27, 4800],\n",
    "              ['China', 30, 6100]])\n",
    "\n",
    "from sklearn.preprocessing import OneHotEncoder\n",
    "\n",
    "onehotencoder = OneHotEncoder()\n",
    "\n",
    "XX = onehotencoder.fit_transform(X[:, 0].reshape(-1, 1)).toarray()\n",
    "print(XX)\n",
    "\n",
    "X = np.delete(X, [0], axis=1) #0번째 열 삭제\n",
    "X = np.concatenate((XX, X), axis = 1) # X와 XX를 붙인다\n",
    "print(X)"
   ]
  },
  {
   "cell_type": "code",
   "execution_count": 2,
   "id": "b91f6143",
   "metadata": {},
   "outputs": [
    {
     "name": "stdout",
     "output_type": "stream",
     "text": [
      "[[0 0 1 0 0 0 0]\n",
      " [0 0 0 0 0 0 1]\n",
      " [0 0 0 0 0 0 1]\n",
      " [0 1 0 0 0 0 0]]\n"
     ]
    }
   ],
   "source": [
    "class_vector = [2, 6, 6, 1]\n",
    "\n",
    "from tensorflow.keras.utils import to_categorical\n",
    "output = to_categorical(class_vector, num_classes = 7, dtype=\"int32\")\n",
    "\n",
    "print(output)"
   ]
  },
  {
   "cell_type": "code",
   "execution_count": null,
   "id": "d13c2797",
   "metadata": {},
   "outputs": [],
   "source": []
  }
 ],
 "metadata": {
  "kernelspec": {
   "display_name": "Python 3 (ipykernel)",
   "language": "python",
   "name": "python3"
  },
  "language_info": {
   "codemirror_mode": {
    "name": "ipython",
    "version": 3
   },
   "file_extension": ".py",
   "mimetype": "text/x-python",
   "name": "python",
   "nbconvert_exporter": "python",
   "pygments_lexer": "ipython3",
   "version": "3.7.9"
  }
 },
 "nbformat": 4,
 "nbformat_minor": 5
}
