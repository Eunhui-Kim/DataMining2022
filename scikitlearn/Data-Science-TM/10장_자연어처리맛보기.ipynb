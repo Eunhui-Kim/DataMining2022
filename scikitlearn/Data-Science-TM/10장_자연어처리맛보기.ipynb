{
 "cells": [
  {
   "cell_type": "code",
   "execution_count": 10,
   "metadata": {},
   "outputs": [
    {
     "data": {
      "text/plain": [
       "{'unnamed': 14,\n",
       " 'text': 12,\n",
       " 'favorited': 2,\n",
       " 'favoritecount': 1,\n",
       " 'replytosn': 6,\n",
       " 'created': 0,\n",
       " 'truncated': 13,\n",
       " 'replytosid': 5,\n",
       " 'id': 3,\n",
       " 'replytouid': 7,\n",
       " 'statussource': 11,\n",
       " 'screenname': 10,\n",
       " 'retweetcount': 8,\n",
       " 'isretweet': 4,\n",
       " 'retweeted': 9}"
      ]
     },
     "execution_count": 10,
     "metadata": {},
     "output_type": "execute_result"
    }
   ],
   "source": [
    "import numpy as np\n",
    "import pandas as pd\n",
    "from sklearn.model_selection import train_test_split\n",
    "from sklearn.feature_extraction.text import CountVectorizer\n",
    "import re\n",
    "\n",
    "corpus = pd.read_csv(\"data/sentimentdata/demonetization-tweets.csv\",encoding = \"ISO-8859-1\")\n",
    "\n",
    "vect = CountVectorizer()\n",
    "vect.fit(corpus)\n",
    "vect.vocabulary_\n"
   ]
  }
 ],
 "metadata": {
  "kernelspec": {
   "display_name": "Python 3",
   "language": "python",
   "name": "python3"
  },
  "language_info": {
   "codemirror_mode": {
    "name": "ipython",
    "version": 3
   },
   "file_extension": ".py",
   "mimetype": "text/x-python",
   "name": "python",
   "nbconvert_exporter": "python",
   "pygments_lexer": "ipython3",
   "version": "3.6.5"
  }
 },
 "nbformat": 4,
 "nbformat_minor": 2
}
