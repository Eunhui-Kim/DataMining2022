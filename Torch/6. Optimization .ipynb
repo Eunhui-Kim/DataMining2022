{
 "cells": [
  {
   "cell_type": "code",
   "execution_count": 1,
   "metadata": {
    "id": "DQjNPQiMKTbL",
    "outputId": "74c2a3af-efcd-48eb-b74a-f6f85be88d3a"
   },
   "outputs": [
    {
     "data": {
      "text/plain": [
       "tensor(2.5141)"
      ]
     },
     "execution_count": 1,
     "metadata": {},
     "output_type": "execute_result"
    }
   ],
   "source": [
    "import torch\n",
    "\n",
    "f = torch.tensor([[-1., -3., 4.], [-3., 3., -1.]])\n",
    "target = torch.tensor([0, 1])\n",
    "criterion = torch.nn.CrossEntropyLoss()\n",
    "criterion(f, target)"
   ]
  },
  {
   "cell_type": "code",
   "execution_count": 2,
   "metadata": {
    "id": "ENnDs9cwKTbO",
    "outputId": "fce50bdf-5016-4e3e-9324-e059c18b12e4"
   },
   "outputs": [
    {
     "data": {
      "text/plain": [
       "tensor(2.5141)"
      ]
     },
     "execution_count": 2,
     "metadata": {},
     "output_type": "execute_result"
    }
   ],
   "source": [
    "f = torch.tensor([[-1., -3., 4.], [-3., 3., -1.]])\n",
    "target = torch.tensor([0, 1])\n",
    "model = torch.nn.LogSoftmax(dim=1)\n",
    "criterion = torch.nn.NLLLoss()\n",
    "criterion(model(f), target)"
   ]
  },
  {
   "cell_type": "code",
   "execution_count": 3,
   "metadata": {
    "id": "HwwhP552KTbP",
    "outputId": "28b8136a-1a82-480d-e149-32e405f4c681"
   },
   "outputs": [
    {
     "data": {
      "text/plain": [
       "tensor([[2.0612e-09, 2.0612e-09, 1.0000e+00, 3.0590e-07],\n",
       "        [8.7005e-01, 4.3317e-02, 4.3317e-02, 4.3317e-02],\n",
       "        [3.2059e-02, 8.7144e-02, 2.3688e-01, 6.4391e-01]])"
      ]
     },
     "execution_count": 3,
     "metadata": {},
     "output_type": "execute_result"
    }
   ],
   "source": [
    "y = torch.tensor([[-10., -10., 10., -5.],\n",
    "                 [3., 0., 0., 0.,],\n",
    "                 [1., 2., 3., 4.]])\n",
    "f = torch.nn.Softmax(1)\n",
    "f(y)"
   ]
  },
  {
   "cell_type": "code",
   "execution_count": 8,
   "metadata": {
    "id": "Uz8-elQTKTbP"
   },
   "outputs": [
    {
     "ename": "NameError",
     "evalue": "name 'train_input' is not defined",
     "output_type": "error",
     "traceback": [
      "\u001b[0;31m---------------------------------------------------------------------------\u001b[0m",
      "\u001b[0;31mNameError\u001b[0m                                 Traceback (most recent call last)",
      "\u001b[0;32m<ipython-input-8-746d12933192>\u001b[0m in \u001b[0;36m<module>\u001b[0;34m\u001b[0m\n\u001b[1;32m      1\u001b[0m \u001b[0mnp_epochs\u001b[0m \u001b[0;34m=\u001b[0m \u001b[0;36m2\u001b[0m\u001b[0;34m\u001b[0m\u001b[0;34m\u001b[0m\u001b[0m\n\u001b[1;32m      2\u001b[0m \u001b[0;32mfor\u001b[0m \u001b[0me\u001b[0m \u001b[0;32min\u001b[0m \u001b[0mrange\u001b[0m\u001b[0;34m(\u001b[0m\u001b[0mnp_epochs\u001b[0m\u001b[0;34m)\u001b[0m\u001b[0;34m:\u001b[0m\u001b[0;34m\u001b[0m\u001b[0;34m\u001b[0m\u001b[0m\n\u001b[0;32m----> 3\u001b[0;31m     \u001b[0moutput\u001b[0m \u001b[0;34m=\u001b[0m \u001b[0mmodel\u001b[0m\u001b[0;34m(\u001b[0m\u001b[0mtrain_input\u001b[0m\u001b[0;34m)\u001b[0m\u001b[0;34m\u001b[0m\u001b[0;34m\u001b[0m\u001b[0m\n\u001b[0m\u001b[1;32m      4\u001b[0m     \u001b[0mloss\u001b[0m \u001b[0;34m=\u001b[0m \u001b[0mcriterion\u001b[0m\u001b[0;34m(\u001b[0m\u001b[0mouput\u001b[0m\u001b[0;34m,\u001b[0m \u001b[0mtrain_target\u001b[0m\u001b[0;34m)\u001b[0m\u001b[0;34m\u001b[0m\u001b[0;34m\u001b[0m\u001b[0m\n\u001b[1;32m      5\u001b[0m \u001b[0;34m\u001b[0m\u001b[0m\n",
      "\u001b[0;31mNameError\u001b[0m: name 'train_input' is not defined"
     ]
    }
   ],
   "source": []
  },
  {
   "cell_type": "code",
   "execution_count": 5,
   "metadata": {
    "executionInfo": {
     "elapsed": 817,
     "status": "ok",
     "timestamp": 1606971448191,
     "user": {
      "displayName": "김은희",
      "photoUrl": "https://lh3.googleusercontent.com/a-/AOh14Gj1ss7adV1y2rLbE18IdPL2wby3j5F8m79NbxeFSw=s64",
      "userId": "08529595918545671711"
     },
     "user_tz": -540
    },
    "id": "cSvdShebKTbP"
   },
   "outputs": [],
   "source": [
    "import torch.nn as nn\n",
    "\n",
    "class Net(nn.Module):\n",
    "    def __init__(self):\n",
    "        super(Net, self).__init__()\n",
    "        self.conv1 = nn.Conv2d(1, 32, kernel_size = 5)\n",
    "        self.conv2 = nn.Conv2d(32, 64, kernel_size = 5)\n",
    "        self.fc1 = nn.Linear(256, 200)\n",
    "        self.fc2 = nn.Linear(200, 10)\n",
    "        \n",
    "    def forward(self, x):\n",
    "        x = F.relu(F.max_pool2d(self.conv1(x), kernel_size = 3))\n",
    "        x = F.relu(F.max_pool2d(self.conv2(x), kernel_size = 2))\n",
    "        x = x.view(x.size(0), -1)\n",
    "        x = F.relu(self.fc1(x))\n",
    "        x = self.fc2(x)\n",
    "        return x"
   ]
  },
  {
   "cell_type": "code",
   "execution_count": 19,
   "metadata": {
    "colab": {
     "base_uri": "https://localhost:8080/"
    },
    "executionInfo": {
     "elapsed": 11796,
     "status": "ok",
     "timestamp": 1606971461420,
     "user": {
      "displayName": "김은희",
      "photoUrl": "https://lh3.googleusercontent.com/a-/AOh14Gj1ss7adV1y2rLbE18IdPL2wby3j5F8m79NbxeFSw=s64",
      "userId": "08529595918545671711"
     },
     "user_tz": -540
    },
    "id": "I3gwIPfPKTbP",
    "outputId": "d9020144-e1bd-4071-9dc6-30e401456c55"
   },
   "outputs": [],
   "source": [
    "import torch\n",
    "import torchvision\n",
    "import torch.nn.functional as F\n",
    "#from google.colab import drive\n",
    "\n",
    "#drive.mount('/content/gdrive')\n",
    "train_set = torchvision.datasets.MNIST('./mnist', train = True, download = True)\n",
    "train_input = train_set.data.view(-1, 1, 28, 28).float()\n",
    "train_target = train_set.train_labels\n",
    "\n",
    "lr, nb_epochs, batch_size = 1e-1, 10, 100\n",
    "\n",
    "model = Net()\n",
    "\n",
    "optimizer = torch.optim.SGD(model.parameters(), lr = lr)\n",
    "criterion = nn.CrossEntropyLoss()\n",
    "\n",
    "device = 'cuda'\n",
    "model.to(device)\n",
    "criterion.to(device)\n",
    "train_input, train_target = train_input.to(device), train_target.to(device)\n",
    "mu, std = train_input.mean(), train_input.std()\n",
    "train_input.sub_(mu).div_(std)\n",
    "\n",
    "for e in range(nb_epochs):\n",
    "    for input, target in zip(train_input.split(batch_size),train_target.split(batch_size)):\n",
    "        output = model(input)\n",
    "        loss = criterion(output, target)\n",
    "        optimizer.zero_grad()\n",
    "        loss.backward()\n",
    "        optimizer.step()"
   ]
  },
  {
   "cell_type": "code",
   "execution_count": null,
   "metadata": {},
   "outputs": [],
   "source": [
    "np_epochs = 2\n",
    "for e in range(np_epochs):\n",
    "    output = model(train_input)\n",
    "    loss = criterion(ouput, train_target)\n",
    "    \n",
    "    model.zero_grad()\n",
    "    loss.backward()\n",
    "    with torch.no_grad():\n",
    "        for p in model.parameters():\n",
    "            p -= eta * p.grad"
   ]
  },
  {
   "cell_type": "code",
   "execution_count": 10,
   "metadata": {
    "id": "632MaG84KTbP"
   },
   "outputs": [],
   "source": [
    "from torch.autograd import Function \n",
    "\n",
    "class KillHead(Function):\n",
    "    @staticmethod\n",
    "    def forward(ctx, input, n):\n",
    "        ctx.n = n\n",
    "        result = input.clone()\n",
    "        result[:, 0:ctx.n] = 0\n",
    "        return result\n",
    "\n",
    "    @staticmethod\n",
    "    def backward(ctx, grad_output):\n",
    "        result = grad_output.clone()\n",
    "        result[:, 0:ctx.n] = 0\n",
    "        return result, None\n",
    "    \n",
    "killhead = KillHead.apply"
   ]
  },
  {
   "cell_type": "code",
   "execution_count": 11,
   "metadata": {
    "id": "-MFWiZtMKTbP",
    "outputId": "0e36e950-5d9d-4d47-9343-ce781bcb4d6d"
   },
   "outputs": [
    {
     "name": "stdout",
     "output_type": "stream",
     "text": [
      "0 1.3456320762634277\n",
      "1 1.1683765649795532\n",
      "2 1.019432544708252\n",
      "3 0.894278347492218\n",
      "4 0.7891139388084412\n"
     ]
    }
   ],
   "source": [
    "y = torch.empty(3, 8).normal_()\n",
    "x = torch.empty(y.size()).normal_().requires_grad_()\n",
    "criterion, eta = nn.MSELoss(), 1e-0\n",
    "\n",
    "for k in range(5):\n",
    "    r = killhead(x, 2)\n",
    "    loss = criterion(r, y)\n",
    "    if k > 0: \n",
    "        x.grad.zero_()\n",
    "    loss.backward()\n",
    "    print(k, loss.item())\n",
    "    with torch.no_grad():\n",
    "        x.sub_(eta * x.grad)\n",
    "        "
   ]
  },
  {
   "cell_type": "code",
   "execution_count": 12,
   "metadata": {
    "id": "QXBXEhsaKTbP",
    "outputId": "7c94fa79-be62-4673-eedd-1352dc208c84"
   },
   "outputs": [
    {
     "name": "stdout",
     "output_type": "stream",
     "text": [
      "All good captain.\n"
     ]
    }
   ],
   "source": [
    "from torch.autograd import gradcheck\n",
    "\n",
    "x = torch.empty(10, 20, dtype = torch.float64).uniform_(-1, 1).requires_grad_()\n",
    "\n",
    "input = (x, 4)\n",
    "\n",
    "if gradcheck(killhead, input, eps = 1e-6, atol = 1e-4):\n",
    "    print('All good captain.')\n",
    "else:\n",
    "    print('Ouch')"
   ]
  },
  {
   "cell_type": "code",
   "execution_count": 13,
   "metadata": {
    "executionInfo": {
     "elapsed": 790,
     "status": "ok",
     "timestamp": 1606959088942,
     "user": {
      "displayName": "김은희",
      "photoUrl": "https://lh3.googleusercontent.com/a-/AOh14Gj1ss7adV1y2rLbE18IdPL2wby3j5F8m79NbxeFSw=s64",
      "userId": "08529595918545671711"
     },
     "user_tz": -540
    },
    "id": "gZPhb5p7KTbQ"
   },
   "outputs": [],
   "source": [
    "import torch.nn as nn\n",
    "\n",
    "def create_model(with_batchnorm, nc = 32, depth = 16):\n",
    "  modules = []\n",
    "  modules.append(nn.Linear(2, nc))\n",
    "  if with_batchnorm: \n",
    "    modules.append(nn.BatchNorm1d(nc))\n",
    "  modules.append(nn.ReLU())\n",
    "\n",
    "  for d in range(depth):\n",
    "    modules.append(nn.Linear(nc, nc))\n",
    "    if with_batchnorm: \n",
    "      modules.append(nn.BatchNorm1d(nc))\n",
    "    modules.append(nn.ReLU())\n",
    "    \n",
    "  modules.append(nn.Linear(nc, 2))\n",
    "  \n",
    "  return nn.Sequential(*modules)\n"
   ]
  },
  {
   "cell_type": "code",
   "execution_count": 14,
   "metadata": {
    "executionInfo": {
     "elapsed": 760,
     "status": "ok",
     "timestamp": 1606959126304,
     "user": {
      "displayName": "김은희",
      "photoUrl": "https://lh3.googleusercontent.com/a-/AOh14Gj1ss7adV1y2rLbE18IdPL2wby3j5F8m79NbxeFSw=s64",
      "userId": "08529595918545671711"
     },
     "user_tz": -540
    },
    "id": "otJS6TjcOUnR"
   },
   "outputs": [],
   "source": [
    "with torch.no_grad():\n",
    "  for p in model.parameters(): \n",
    "    p.normal_(0, std)"
   ]
  },
  {
   "cell_type": "code",
   "execution_count": 15,
   "metadata": {
    "colab": {
     "base_uri": "https://localhost:8080/"
    },
    "executionInfo": {
     "elapsed": 1470,
     "status": "ok",
     "timestamp": 1606970351927,
     "user": {
      "displayName": "김은희",
      "photoUrl": "https://lh3.googleusercontent.com/a-/AOh14Gj1ss7adV1y2rLbE18IdPL2wby3j5F8m79NbxeFSw=s64",
      "userId": "08529595918545671711"
     },
     "user_tz": -540
    },
    "id": "Pcro41w1OlP_",
    "outputId": "34d3357f-56d0-4a11-e88a-f6b621f2cf5e"
   },
   "outputs": [
    {
     "data": {
      "text/plain": [
       "device(type='cpu')"
      ]
     },
     "execution_count": 15,
     "metadata": {},
     "output_type": "execute_result"
    }
   ],
   "source": [
    "import torch\n",
    "\n",
    "u = torch.tensor([1, 2, 3])\n",
    "u.device"
   ]
  },
  {
   "cell_type": "code",
   "execution_count": 5,
   "metadata": {
    "colab": {
     "base_uri": "https://localhost:8080/"
    },
    "executionInfo": {
     "elapsed": 826,
     "status": "ok",
     "timestamp": 1606970377563,
     "user": {
      "displayName": "김은희",
      "photoUrl": "https://lh3.googleusercontent.com/a-/AOh14Gj1ss7adV1y2rLbE18IdPL2wby3j5F8m79NbxeFSw=s64",
      "userId": "08529595918545671711"
     },
     "user_tz": -540
    },
    "id": "eIWqtmZ-5Up0",
    "outputId": "d626ccaa-fab7-47a2-a871-1309af169d57"
   },
   "outputs": [
    {
     "data": {
      "text/plain": [
       "tensor([1, 2, 3], device='cuda:0')"
      ]
     },
     "execution_count": 5,
     "metadata": {
      "tags": []
     },
     "output_type": "execute_result"
    }
   ],
   "source": [
    "v = u.to('cuda') #copy of u\n",
    "v"
   ]
  },
  {
   "cell_type": "code",
   "execution_count": 6,
   "metadata": {
    "colab": {
     "base_uri": "https://localhost:8080/"
    },
    "executionInfo": {
     "elapsed": 803,
     "status": "ok",
     "timestamp": 1606970392428,
     "user": {
      "displayName": "김은희",
      "photoUrl": "https://lh3.googleusercontent.com/a-/AOh14Gj1ss7adV1y2rLbE18IdPL2wby3j5F8m79NbxeFSw=s64",
      "userId": "08529595918545671711"
     },
     "user_tz": -540
    },
    "id": "jIo3onK55cGq",
    "outputId": "0925a267-012e-4816-a3a3-6040881c92e3"
   },
   "outputs": [
    {
     "data": {
      "text/plain": [
       "tensor([1, 2, 3])"
      ]
     },
     "execution_count": 6,
     "metadata": {
      "tags": []
     },
     "output_type": "execute_result"
    }
   ],
   "source": [
    "v[0] = 5\n",
    "u"
   ]
  },
  {
   "cell_type": "code",
   "execution_count": 7,
   "metadata": {
    "colab": {
     "base_uri": "https://localhost:8080/"
    },
    "executionInfo": {
     "elapsed": 809,
     "status": "ok",
     "timestamp": 1606970442623,
     "user": {
      "displayName": "김은희",
      "photoUrl": "https://lh3.googleusercontent.com/a-/AOh14Gj1ss7adV1y2rLbE18IdPL2wby3j5F8m79NbxeFSw=s64",
      "userId": "08529595918545671711"
     },
     "user_tz": -540
    },
    "id": "1VnkCMI35jpS",
    "outputId": "37b98e78-f3bd-4d3c-9dcf-35e728c9bddc"
   },
   "outputs": [
    {
     "data": {
      "text/plain": [
       "tensor([1, 2, 3])"
      ]
     },
     "execution_count": 7,
     "metadata": {
      "tags": []
     },
     "output_type": "execute_result"
    }
   ],
   "source": [
    "w = u.to('cpu') #this is u itself\n",
    "w"
   ]
  },
  {
   "cell_type": "code",
   "execution_count": 8,
   "metadata": {
    "colab": {
     "base_uri": "https://localhost:8080/"
    },
    "executionInfo": {
     "elapsed": 632,
     "status": "ok",
     "timestamp": 1606970451326,
     "user": {
      "displayName": "김은희",
      "photoUrl": "https://lh3.googleusercontent.com/a-/AOh14Gj1ss7adV1y2rLbE18IdPL2wby3j5F8m79NbxeFSw=s64",
      "userId": "08529595918545671711"
     },
     "user_tz": -540
    },
    "id": "cXms0Sy05v8C",
    "outputId": "e35ea833-d127-4cdb-b426-12fc0d262815"
   },
   "outputs": [
    {
     "data": {
      "text/plain": [
       "tensor([5, 2, 3])"
      ]
     },
     "execution_count": 8,
     "metadata": {
      "tags": []
     },
     "output_type": "execute_result"
    }
   ],
   "source": [
    "w[0] = 5\n",
    "u"
   ]
  },
  {
   "cell_type": "code",
   "execution_count": 10,
   "metadata": {
    "colab": {
     "base_uri": "https://localhost:8080/"
    },
    "executionInfo": {
     "elapsed": 1024,
     "status": "ok",
     "timestamp": 1606970554176,
     "user": {
      "displayName": "김은희",
      "photoUrl": "https://lh3.googleusercontent.com/a-/AOh14Gj1ss7adV1y2rLbE18IdPL2wby3j5F8m79NbxeFSw=s64",
      "userId": "08529595918545671711"
     },
     "user_tz": -540
    },
    "id": "yMUh6DyB5yE6",
    "outputId": "27e9dfa0-6665-4e5a-feed-aba150654cc7"
   },
   "outputs": [
    {
     "data": {
      "text/plain": [
       "device(type='cpu')"
      ]
     },
     "execution_count": 10,
     "metadata": {
      "tags": []
     },
     "output_type": "execute_result"
    }
   ],
   "source": [
    "m = torch.empty(10, 10).normal_()\n",
    "m.device"
   ]
  },
  {
   "cell_type": "code",
   "execution_count": 11,
   "metadata": {
    "colab": {
     "base_uri": "https://localhost:8080/"
    },
    "executionInfo": {
     "elapsed": 468,
     "status": "ok",
     "timestamp": 1606970582128,
     "user": {
      "displayName": "김은희",
      "photoUrl": "https://lh3.googleusercontent.com/a-/AOh14Gj1ss7adV1y2rLbE18IdPL2wby3j5F8m79NbxeFSw=s64",
      "userId": "08529595918545671711"
     },
     "user_tz": -540
    },
    "id": "HJ5TT2-g6Jpi",
    "outputId": "d3d397e4-953b-4514-a2f6-33ce329476b0"
   },
   "outputs": [
    {
     "data": {
      "text/plain": [
       "device(type='cpu')"
      ]
     },
     "execution_count": 11,
     "metadata": {
      "tags": []
     },
     "output_type": "execute_result"
    }
   ],
   "source": [
    "x = torch.empty(10, 100).normal_()\n",
    "q = m@x\n",
    "q.device"
   ]
  },
  {
   "cell_type": "code",
   "execution_count": 12,
   "metadata": {
    "colab": {
     "base_uri": "https://localhost:8080/"
    },
    "executionInfo": {
     "elapsed": 747,
     "status": "ok",
     "timestamp": 1606970624812,
     "user": {
      "displayName": "김은희",
      "photoUrl": "https://lh3.googleusercontent.com/a-/AOh14Gj1ss7adV1y2rLbE18IdPL2wby3j5F8m79NbxeFSw=s64",
      "userId": "08529595918545671711"
     },
     "user_tz": -540
    },
    "id": "zL-wzmpP6SI5",
    "outputId": "4ac35821-4e07-429d-cc46-495bed5f36d5"
   },
   "outputs": [
    {
     "data": {
      "text/plain": [
       "device(type='cuda', index=0)"
      ]
     },
     "execution_count": 12,
     "metadata": {
      "tags": []
     },
     "output_type": "execute_result"
    }
   ],
   "source": [
    "m = m.to('cuda')\n",
    "x = x.to('cuda')\n",
    "q = m@x\n",
    "q.device"
   ]
  },
  {
   "cell_type": "code",
   "execution_count": 21,
   "metadata": {
    "colab": {
     "base_uri": "https://localhost:8080/",
     "height": 208
    },
    "executionInfo": {
     "elapsed": 811,
     "status": "error",
     "timestamp": 1606972253785,
     "user": {
      "displayName": "김은희",
      "photoUrl": "https://lh3.googleusercontent.com/a-/AOh14Gj1ss7adV1y2rLbE18IdPL2wby3j5F8m79NbxeFSw=s64",
      "userId": "08529595918545671711"
     },
     "user_tz": -540
    },
    "id": "EKy2ytfT6cY6",
    "outputId": "af1c88ad-fc9b-49b2-b577-f1a5fc7b805e"
   },
   "outputs": [],
   "source": [
    "if torch.cuda.is_available():\n",
    "  device = torch.device('cuda')\n",
    "else:\n",
    "  device = torch.device('cpu')\n",
    "\n",
    "model.to(device)\n",
    "criterion.to(device)\n",
    "\n",
    "test_set = torchvision.datasets.MNIST('./mnist', train = False, download = True)\n",
    "test_input = test_set.data.view(-1, 1, 28, 28).float()\n",
    "test_target = test_set.train_labels\n",
    "\n",
    "train_input, train_target = train_input.to(device), train_target.to(device)\n",
    "test_input, test_target = test_input.to(device), test_target.to(device)\n"
   ]
  },
  {
   "cell_type": "code",
   "execution_count": 22,
   "metadata": {
    "colab": {
     "base_uri": "https://localhost:8080/"
    },
    "executionInfo": {
     "elapsed": 813,
     "status": "ok",
     "timestamp": 1606972449667,
     "user": {
      "displayName": "김은희",
      "photoUrl": "https://lh3.googleusercontent.com/a-/AOh14Gj1ss7adV1y2rLbE18IdPL2wby3j5F8m79NbxeFSw=s64",
      "userId": "08529595918545671711"
     },
     "user_tz": -540
    },
    "id": "6_Dtimuy8qrJ",
    "outputId": "0b7ff917-d917-4ed6-8cdc-80dba75e4981"
   },
   "outputs": [
    {
     "name": "stdout",
     "output_type": "stream",
     "text": [
      "On CPU\n",
      "Dummy.formard torch.Size([50, 10]) cpu\n",
      "On GPU w/o nn.DataParallel\n",
      "Dummy.formard torch.Size([50, 10]) cuda:0\n",
      "On GPU w/ nn.DataParallel\n",
      "Dummy.formardDummy.formard torch.Size([25, 10]) cuda:1\n",
      " torch.Size([25, 10]) cuda:0\n"
     ]
    }
   ],
   "source": [
    "class Dummy(nn.Module):\n",
    "  def __init__(self, m):\n",
    "    super(Dummy, self).__init__()\n",
    "    self.m = m\n",
    "\n",
    "  def forward(self, x):\n",
    "    print('Dummy.formard', x.size(), x.device)\n",
    "    return self.m(x)\n",
    "\n",
    "x = torch.empty(50, 10).normal_()\n",
    "model = Dummy(nn.Linear(10, 5))\n",
    "\n",
    "print('On CPU')\n",
    "y = model(x)\n",
    "\n",
    "x = x.cuda()\n",
    "model.cuda()\n",
    "\n",
    "print('On GPU w/o nn.DataParallel')\n",
    "y = model(x)\n",
    "\n",
    "print('On GPU w/ nn.DataParallel')\n",
    "parallel_model = nn.DataParallel(model)\n",
    "y = parallel_model(x)\n"
   ]
  },
  {
   "cell_type": "code",
   "execution_count": null,
   "metadata": {
    "id": "xbKQFPxgBLv4"
   },
   "outputs": [],
   "source": []
  }
 ],
 "metadata": {
  "accelerator": "GPU",
  "colab": {
   "name": "6. Optimization .ipynb",
   "provenance": []
  },
  "kernelspec": {
   "display_name": "Python 3",
   "language": "python",
   "name": "python3"
  },
  "language_info": {
   "codemirror_mode": {
    "name": "ipython",
    "version": 3
   },
   "file_extension": ".py",
   "mimetype": "text/x-python",
   "name": "python",
   "nbconvert_exporter": "python",
   "pygments_lexer": "ipython3",
   "version": "3.7.6"
  }
 },
 "nbformat": 4,
 "nbformat_minor": 4
}
